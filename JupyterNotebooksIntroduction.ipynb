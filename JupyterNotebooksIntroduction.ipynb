{
 "cells": [
  {
   "cell_type": "markdown",
   "id": "601b7b34-180e-4ba9-b119-136300f59d29",
   "metadata": {},
   "source": [
    "\n",
    "# A Short Introduction to Jupyter Notebooks\n",
    "\n",
    "Jupyter Notebooks provide a way to have notebooks with interactive code embedded into it. It enables to talk and also run programs from one place making it very useful for coding related tasks. It also helps in brainstroming a coding problem, trying and experiment with different approaches, documenting ideas, incremental development etc. all in one place. \n",
    "\n",
    "Jupyter Notebooks supports Markdown syntax which makes it easier to even write books on it. There are some example books published by O'Reilly which are entirely written in Jupyter Notebooks. There are several GitHub repositories which hosts a Jupyter Notebooks for sharing and development. Jupyter Notebooks are especially found to be useful and infact widely used by the programmers in Python and in the field of Data Science where there is an extensive need for iterative analysis and development. So we can often see the entire programs in some data Science applications is completely written and shared as Jupyter Notebooks. Technically Jupyter Notebooks have integrated the easyness of Markdown to create HTML pages for creating documents and interactive Iron Python Shell which is the enhanced Python Shell in one web application.          \n",
    "\n",
    "So in summary, Jupyter Notebooks provides one stop solution for documenting and interactive way of code development.\n",
    "\n",
    "for example, we can run the code in the document like in the following way, add a cell, enter the code, press 'Shift+Enter' to run the cell and produce its output. "
   ]
  },
  {
   "cell_type": "code",
   "execution_count": 1,
   "id": "406af737-d5e6-4251-b720-9e7abd06b213",
   "metadata": {},
   "outputs": [
    {
     "name": "stdout",
     "output_type": "stream",
     "text": [
      "5\n"
     ]
    }
   ],
   "source": [
    "a = [1, 2, 3, 4, 5]\n",
    "print(len(a))"
   ]
  },
  {
   "cell_type": "markdown",
   "id": "a61cd879-e088-46a0-92de-8145eec0563e",
   "metadata": {},
   "source": [
    "Examine that the code cells are indexed with numbers like [1], since those code cells will be used to refer to easliy and also utilize those values in code. We will discuss this feature later in this document.\n",
    "\n",
    "Remember that when we re run a cell, the cell reference number increments, this is because the cell input and output is stored to a special list and its keep incrementing with each execution and the input and output of it is appended into the list. If we want at some point of time to have all the cells to have consecutive numbers from start, press the 'fast foreward' ikon which actually restarts the kernel and run all the cells.\n",
    "\n",
    "## Cell Interaction\n",
    "\n",
    "In practice, it wil be quite easy to use keyboard shortcuts to interact with the notebook. For example, We can use '+' ikon at the top of the notebook to create a new cell below or use the keys \"ESC and B\" (Press 'ESC' first and then press 'b'). We will be discussing the notebook interaction with keyboard shortcuts.\n",
    "\n",
    "There are three types of cells, they are Markdown, Code and Raw. When we create a new cell, by default the cell type is Code. The following keyboard shortcuts will change the cell types from one to another.\n",
    "- ESC and M : Change cell type to Markdown\n",
    "- ESC and R : Change cell type to Raw\n",
    "- ESC and Y : Change cell type to Code\n",
    "\n",
    "We may be wondering why \"ESC and C\" is not used instead of \"ESC and Y\" for changing cell type to Code, the reason is the former combination is reserved the more popular and traditional use of keys combination for tasks Cut, Copy and Paste as given here.\n",
    "- ESC and X : Cut cell\n",
    "- ESC and C : Copy cell\n",
    "- ESC and V : Paste cell\n",
    "\n",
    "Also, we can undo the creation of previous cells with,\n",
    "- ESC and Z : Undo previous cell creation \n",
    "\n",
    "## Cell Navigation\n",
    "\n",
    "We can navigate the cell with up arrow and down arrow keys. If we are in editing mode of a cell, we can run the cell with \"Shift + Enter\" which will run the cell and comes out of it and we can navigate with arrow keys. If we do not want to run the cell and need to navigate, press 'ESC' and use arrow keys. \n",
    "\n",
    "The current cell we are navigating or working with is hilighted with blue border. If not in editing mode press 'Enter' to enter and edit the hilighted cell.\n",
    "\n",
    "## Accessing Help\n",
    "\n",
    "The help() and dir() functions from the Python interactive Shell can also be accessed from within the cells. We can use '?' after a object or keyword to get help about it.\n",
    "\n",
    "For example we can use it the following way to know about the keyword len."
   ]
  },
  {
   "cell_type": "code",
   "execution_count": 2,
   "id": "50fbcdc5-3d6a-40c8-8253-3d484aa7dcbc",
   "metadata": {},
   "outputs": [
    {
     "data": {
      "text/plain": [
       "\u001b[0;31mSignature:\u001b[0m \u001b[0mlen\u001b[0m\u001b[0;34m(\u001b[0m\u001b[0mobj\u001b[0m\u001b[0;34m,\u001b[0m \u001b[0;34m/\u001b[0m\u001b[0;34m)\u001b[0m\u001b[0;34m\u001b[0m\u001b[0;34m\u001b[0m\u001b[0m\n",
       "\u001b[0;31mDocstring:\u001b[0m Return the number of items in a container.\n",
       "\u001b[0;31mType:\u001b[0m      builtin_function_or_method"
      ]
     },
     "metadata": {},
     "output_type": "display_data"
    }
   ],
   "source": [
    "len?"
   ]
  },
  {
   "cell_type": "markdown",
   "id": "6e6ebf2a-396d-42b8-8c32-016117d2ec3a",
   "metadata": {},
   "source": [
    "Similarly, we can use TAB to interactively list all the functions or methods available for the object and for tab completion. it can also be used in import statements.\n",
    "\n",
    "For example, we can list the methods and functions available for the object as shown here "
   ]
  },
  {
   "cell_type": "markdown",
   "id": "3d91b693-03eb-4cb2-8217-a329dd111909",
   "metadata": {},
   "source": [
    "a.--TAB--"
   ]
  },
  {
   "cell_type": "markdown",
   "id": "f8ffa96f-40f0-4562-9588-c66982672e97",
   "metadata": {},
   "source": [
    "When we prefer to print all the available for the object we can use dir() as we do in Python Shell. \n",
    "\n",
    "We can use wildcard matching to list all objects that matches with given pattern. Example illustration is given here.  "
   ]
  },
  {
   "cell_type": "code",
   "execution_count": 3,
   "id": "01b0c6fe-974a-4268-b1de-e340e6db719d",
   "metadata": {},
   "outputs": [
    {
     "data": {
      "text/plain": [
       "execfile\n",
       "runfile"
      ]
     },
     "metadata": {},
     "output_type": "display_data"
    }
   ],
   "source": [
    "*file?"
   ]
  },
  {
   "cell_type": "code",
   "execution_count": 4,
   "id": "68574417-c0a6-4bdc-83f7-bfee778bf05a",
   "metadata": {},
   "outputs": [
    {
     "data": {
      "text/plain": [
       "np.abs\n",
       "np.absolute"
      ]
     },
     "metadata": {},
     "output_type": "display_data"
    }
   ],
   "source": [
    "import numpy as np\n",
    "\n",
    "def getAbsolute(val):\n",
    "    return np.absolute(val)\n",
    "    \n",
    "np.ab*?"
   ]
  },
  {
   "cell_type": "markdown",
   "id": "d9ab195b-cecc-4712-a215-93480716174f",
   "metadata": {},
   "source": [
    "Earlier we have seen '?' for getting help. We can use '??' to get the source code of the function as illustrated here.  "
   ]
  },
  {
   "cell_type": "code",
   "execution_count": 5,
   "id": "3cbcafca-833c-448f-9623-b45370bbd297",
   "metadata": {},
   "outputs": [
    {
     "data": {
      "text/plain": [
       "\u001b[0;31mSignature:\u001b[0m \u001b[0mgetAbsolute\u001b[0m\u001b[0;34m(\u001b[0m\u001b[0mval\u001b[0m\u001b[0;34m)\u001b[0m\u001b[0;34m\u001b[0m\u001b[0;34m\u001b[0m\u001b[0m\n",
       "\u001b[0;31mDocstring:\u001b[0m <no docstring>\n",
       "\u001b[0;31mSource:\u001b[0m   \n",
       "\u001b[0;32mdef\u001b[0m \u001b[0mgetAbsolute\u001b[0m\u001b[0;34m(\u001b[0m\u001b[0mval\u001b[0m\u001b[0;34m)\u001b[0m\u001b[0;34m:\u001b[0m\u001b[0;34m\u001b[0m\n",
       "\u001b[0;34m\u001b[0m    \u001b[0;32mreturn\u001b[0m \u001b[0mnp\u001b[0m\u001b[0;34m.\u001b[0m\u001b[0mabsolute\u001b[0m\u001b[0;34m(\u001b[0m\u001b[0mval\u001b[0m\u001b[0;34m)\u001b[0m\u001b[0;34m\u001b[0m\u001b[0;34m\u001b[0m\u001b[0m\n",
       "\u001b[0;31mFile:\u001b[0m      /tmp/ipykernel_16772/777075622.py\n",
       "\u001b[0;31mType:\u001b[0m      function"
      ]
     },
     "metadata": {},
     "output_type": "display_data"
    }
   ],
   "source": [
    "getAbsolute??"
   ]
  },
  {
   "cell_type": "markdown",
   "id": "5907ab6a-4004-485c-811e-7eddc49a58a7",
   "metadata": {},
   "source": [
    "if the given keyword is a object, it displays the help similar to using '?'.\n",
    "\n",
    "## Shell Commands\n",
    "\n",
    "We can run Shell commands dirictly from notebook cell with '!' prefix."
   ]
  },
  {
   "cell_type": "code",
   "execution_count": 6,
   "id": "f9694900-881e-4db5-aa25-723505ea4f28",
   "metadata": {},
   "outputs": [
    {
     "name": "stdout",
     "output_type": "stream",
     "text": [
      "JupyterNotebooksIntroduction.ipynb  myenv  resources\n"
     ]
    }
   ],
   "source": [
    "!ls"
   ]
  },
  {
   "cell_type": "markdown",
   "id": "ac446ab2-8ef2-4c8f-8717-2967903469d7",
   "metadata": {},
   "source": [
    "We can even assign the output to a local variable as shown here."
   ]
  },
  {
   "cell_type": "code",
   "execution_count": 7,
   "id": "4171d05c-d9d9-4f2c-86d0-9115dfe5cd0c",
   "metadata": {},
   "outputs": [
    {
     "name": "stdout",
     "output_type": "stream",
     "text": [
      "['JupyterNotebooksIntroduction.ipynb', 'myenv', 'resources']\n",
      "['/home/bhanu/Documents/Python/LearnJupyter']\n"
     ]
    }
   ],
   "source": [
    "files = !ls\n",
    "current_dir = !pwd\n",
    "print(files)\n",
    "print(current_dir)"
   ]
  },
  {
   "cell_type": "markdown",
   "id": "bc6657aa-de21-4a19-895e-ba6195ffe9fc",
   "metadata": {},
   "source": [
    "## Magic Commands\n",
    "\n",
    "Magic commands are useful functions that can be run at notebooks to perform tasks. \n",
    "\n",
    "Notebooks provide magic commands in two flavours, Line magics and Cell magics. The Iron Python documentation can be referred to see the full list of comands available. \n",
    "URL: https://ipython.readthedocs.io/en/stable/interactive/magics.html#line-magics\n",
    "\n",
    "Here, we can explore a few of them to understand their usage.\n",
    "\n",
    "To see the history of all our previous commands use %history"
   ]
  },
  {
   "cell_type": "code",
   "execution_count": 8,
   "id": "1b894508-8634-4eb5-8c88-59dd137dc83c",
   "metadata": {},
   "outputs": [
    {
     "name": "stdout",
     "output_type": "stream",
     "text": [
      "a = [1, 2, 3, 4, 5]\n",
      "print(len(a))\n",
      "len?\n",
      "*file?\n",
      "import numpy as np\n",
      "\n",
      "def getAbsolute(val):\n",
      "    return np.absolute(val)\n",
      "    \n",
      "np.ab*?\n",
      "getAbsolute??\n",
      "!ls\n",
      "files = !ls\n",
      "current_dir = !pwd\n",
      "print(files)\n",
      "print(current_dir)\n",
      "%history\n"
     ]
    }
   ],
   "source": [
    "%history"
   ]
  },
  {
   "cell_type": "code",
   "execution_count": 9,
   "id": "e55b8126-c3e8-466e-8194-a9040323afbb",
   "metadata": {},
   "outputs": [
    {
     "name": "stdout",
     "output_type": "stream",
     "text": [
      "   4:\n",
      "import numpy as np\n",
      "\n",
      "def getAbsolute(val):\n",
      "    return np.absolute(val)\n",
      "    \n",
      "np.ab*?\n"
     ]
    }
   ],
   "source": [
    "%history -n 4"
   ]
  },
  {
   "cell_type": "markdown",
   "id": "59347881-e8aa-47e3-9d8f-7f39b6f3f093",
   "metadata": {},
   "source": [
    "Here are some of the list of magic functions with their description.\n",
    "- %run - Run the named file inside IPython as a program.\n",
    "- %timeit - Time execution of a Python statement or expression.\n",
    "- %who - Print all interactive variables, with some minimal formatting.\n",
    "- %whos - Like %who, but gives some extra information about each variable.\n",
    "- %%latex - Render the cell as a block of LaTeX. "
   ]
  },
  {
   "cell_type": "code",
   "execution_count": 10,
   "id": "9eb075e6-6262-4bed-b8b5-2af9c7f39be0",
   "metadata": {},
   "outputs": [
    {
     "name": "stdout",
     "output_type": "stream",
     "text": [
      "The first 10 Fibonacci numbers are: [0, 1, 1, 2, 3, 5, 8, 13, 21, 34]\n"
     ]
    }
   ],
   "source": [
    "%run resources/fibonacci.py # the python file with the given name should be in current directory."
   ]
  },
  {
   "cell_type": "code",
   "execution_count": 11,
   "id": "4a89c12f-50f4-452f-967c-56efadff8ebd",
   "metadata": {},
   "outputs": [
    {
     "name": "stdout",
     "output_type": "stream",
     "text": [
      "10.8 μs ± 76.3 ns per loop (mean ± std. dev. of 7 runs, 100,000 loops each)\n"
     ]
    }
   ],
   "source": [
    "%timeit [x ** x for x in range(100)]"
   ]
  },
  {
   "cell_type": "code",
   "execution_count": 12,
   "id": "b42356c4-0aca-4c70-ae1e-78404ca1e984",
   "metadata": {},
   "outputs": [
    {
     "name": "stdout",
     "output_type": "stream",
     "text": [
      "a\t current_dir\t fib_numbers\t fibonacci\t files\t getAbsolute\t n\t np\t \n"
     ]
    }
   ],
   "source": [
    "%who"
   ]
  },
  {
   "cell_type": "code",
   "execution_count": 13,
   "id": "6aa378b6-dd04-4e15-84b7-144c5d00b559",
   "metadata": {},
   "outputs": [
    {
     "name": "stdout",
     "output_type": "stream",
     "text": [
      "Variable      Type        Data/Info\n",
      "-----------------------------------\n",
      "a             list        n=5\n",
      "current_dir   SList       ['/home/bhanu/Documents/Python/LearnJupyter']\n",
      "fib_numbers   list        n=10\n",
      "fibonacci     function    <function fibonacci at 0x7f04d066aac0>\n",
      "files         SList       ['JupyterNotebooksIntrodu<...>b', 'myenv', 'resources']\n",
      "getAbsolute   function    <function getAbsolute at 0x7f04e929d300>\n",
      "n             int         10\n",
      "np            module      <module 'numpy' from '/ho<...>kages/numpy/__init__.py'>\n"
     ]
    }
   ],
   "source": [
    "%whos"
   ]
  },
  {
   "cell_type": "code",
   "execution_count": 14,
   "id": "73810003-9e09-4a53-8e7a-8e0cd61399c2",
   "metadata": {},
   "outputs": [
    {
     "data": {
      "text/latex": [
       "\\[\n",
       "(a+b)^2 = a^2 + 2ab + b^2\n",
       "\\]\n"
      ],
      "text/plain": [
       "<IPython.core.display.Latex object>"
      ]
     },
     "metadata": {},
     "output_type": "display_data"
    }
   ],
   "source": [
    "%%latex\n",
    "\\[\n",
    "(a+b)^2 = a^2 + 2ab + b^2\n",
    "\\]"
   ]
  },
  {
   "cell_type": "markdown",
   "id": "e2a0c127-3632-4614-9f98-5f3e35ba3a58",
   "metadata": {},
   "source": [
    "## Publishing\n",
    "\n",
    "When we save a Jupyter Notebook, it is saved with .ipynb extension. However, we can save and export the notebook to other formats including 'HTML', 'Asciidoc', 'PDF', 'Markdown', 'Latex' etc. Use 'File>Save and Export Notebook As' for the feature.\n",
    "\n",
    "If 'pandoc' is not installed, install it to make these features work.  \n",
    "\n",
    "## Additional Resources\n",
    "\n",
    "1. Jupyter Notebook Documentation, URL: https://jupyter-notebook.readthedocs.io/en/latest/user-documentation.html\n",
    "2. IPython Doeumentation, URL: https://ipython.readthedocs.io/en/stable/index.html\n",
    "3. Python Data Science handbook, A book completely written on Jupyter Notebook and hosted at GitHub. The first chapter provides a good tutorial on Jupyter notebooks and Ipython. URL: https://github.com/jakevdp/PythonDataScienceHandbook\n",
    "4. A Gallery of Interesting Jupyter Notebooks URL: https://github.com/jupyter/jupyter/wiki#general-python-programming\n",
    "5. nbviewer, for lots viewing rendered Jupyter Notebooks, URL: https://nbviewer.org/"
   ]
  }
 ],
 "metadata": {
  "kernelspec": {
   "display_name": "Python 3 (ipykernel)",
   "language": "python",
   "name": "python3"
  },
  "language_info": {
   "codemirror_mode": {
    "name": "ipython",
    "version": 3
   },
   "file_extension": ".py",
   "mimetype": "text/x-python",
   "name": "python",
   "nbconvert_exporter": "python",
   "pygments_lexer": "ipython3",
   "version": "3.11.2"
  }
 },
 "nbformat": 4,
 "nbformat_minor": 5
}
