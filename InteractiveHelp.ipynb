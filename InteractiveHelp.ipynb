{
 "cells": [
  {
   "cell_type": "markdown",
   "id": "ae3d586b-1387-4fc4-999f-c0a30a7e8fe3",
   "metadata": {},
   "source": [
    "# Exploring Jupyter Notebook Help\n",
    "\n",
    "In this document let us explore the interactive help features of Jupyter Notebooks with '?', TAB and the dir() function.\n",
    "\n",
    "'?', which prints the python function's docstring. Let us try to get help on Numpy ndarray as shown here."
   ]
  },
  {
   "cell_type": "code",
   "execution_count": 1,
   "id": "9b915302-eda4-4244-aff0-66c3bfb9526b",
   "metadata": {
    "scrolled": true
   },
   "outputs": [
    {
     "data": {
      "text/plain": [
       "\u001b[0;31mDocstring:\u001b[0m\n",
       "array(object, dtype=None, *, copy=True, order='K', subok=False, ndmin=0,\n",
       "      like=None)\n",
       "\n",
       "Create an array.\n",
       "\n",
       "Parameters\n",
       "----------\n",
       "object : array_like\n",
       "    An array, any object exposing the array interface, an object whose\n",
       "    ``__array__`` method returns an array, or any (nested) sequence.\n",
       "    If object is a scalar, a 0-dimensional array containing object is\n",
       "    returned.\n",
       "dtype : data-type, optional\n",
       "    The desired data-type for the array. If not given, NumPy will try to use\n",
       "    a default ``dtype`` that can represent the values (by applying promotion\n",
       "    rules when necessary.)\n",
       "copy : bool, optional\n",
       "    If ``True`` (default), then the array data is copied. If ``None``,\n",
       "    a copy will only be made if ``__array__`` returns a copy, if obj is\n",
       "    a nested sequence, or if a copy is needed to satisfy any of the other\n",
       "    requirements (``dtype``, ``order``, etc.). Note that any copy of\n",
       "    the data is shallow, i.e., for arrays with object dtype, the new\n",
       "    array will point to the same objects. See Examples for `ndarray.copy`.\n",
       "    For ``False`` it raises a ``ValueError`` if a copy cannot be avoided.\n",
       "    Default: ``True``.\n",
       "order : {'K', 'A', 'C', 'F'}, optional\n",
       "    Specify the memory layout of the array. If object is not an array, the\n",
       "    newly created array will be in C order (row major) unless 'F' is\n",
       "    specified, in which case it will be in Fortran order (column major).\n",
       "    If object is an array the following holds.\n",
       "\n",
       "    ===== ========= ===================================================\n",
       "    order  no copy                     copy=True\n",
       "    ===== ========= ===================================================\n",
       "    'K'   unchanged F & C order preserved, otherwise most similar order\n",
       "    'A'   unchanged F order if input is F and not C, otherwise C order\n",
       "    'C'   C order   C order\n",
       "    'F'   F order   F order\n",
       "    ===== ========= ===================================================\n",
       "\n",
       "    When ``copy=None`` and a copy is made for other reasons, the result is\n",
       "    the same as if ``copy=True``, with some exceptions for 'A', see the\n",
       "    Notes section. The default order is 'K'.\n",
       "subok : bool, optional\n",
       "    If True, then sub-classes will be passed-through, otherwise\n",
       "    the returned array will be forced to be a base-class array (default).\n",
       "ndmin : int, optional\n",
       "    Specifies the minimum number of dimensions that the resulting\n",
       "    array should have.  Ones will be prepended to the shape as\n",
       "    needed to meet this requirement.\n",
       "like : array_like, optional\n",
       "    Reference object to allow the creation of arrays which are not\n",
       "    NumPy arrays. If an array-like passed in as ``like`` supports\n",
       "    the ``__array_function__`` protocol, the result will be defined\n",
       "    by it. In this case, it ensures the creation of an array object\n",
       "    compatible with that passed in via this argument.\n",
       "\n",
       "    .. versionadded:: 1.20.0\n",
       "\n",
       "Returns\n",
       "-------\n",
       "out : ndarray\n",
       "    An array object satisfying the specified requirements.\n",
       "\n",
       "See Also\n",
       "--------\n",
       "empty_like : Return an empty array with shape and type of input.\n",
       "ones_like : Return an array of ones with shape and type of input.\n",
       "zeros_like : Return an array of zeros with shape and type of input.\n",
       "full_like : Return a new array with shape of input filled with value.\n",
       "empty : Return a new uninitialized array.\n",
       "ones : Return a new array setting values to one.\n",
       "zeros : Return a new array setting values to zero.\n",
       "full : Return a new array of given shape filled with value.\n",
       "copy: Return an array copy of the given object.\n",
       "\n",
       "\n",
       "Notes\n",
       "-----\n",
       "When order is 'A' and ``object`` is an array in neither 'C' nor 'F' order,\n",
       "and a copy is forced by a change in dtype, then the order of the result is\n",
       "not necessarily 'C' as expected. This is likely a bug.\n",
       "\n",
       "Examples\n",
       "--------\n",
       ">>> np.array([1, 2, 3])\n",
       "array([1, 2, 3])\n",
       "\n",
       "Upcasting:\n",
       "\n",
       ">>> np.array([1, 2, 3.0])\n",
       "array([ 1.,  2.,  3.])\n",
       "\n",
       "More than one dimension:\n",
       "\n",
       ">>> np.array([[1, 2], [3, 4]])\n",
       "array([[1, 2],\n",
       "       [3, 4]])\n",
       "\n",
       "Minimum dimensions 2:\n",
       "\n",
       ">>> np.array([1, 2, 3], ndmin=2)\n",
       "array([[1, 2, 3]])\n",
       "\n",
       "Type provided:\n",
       "\n",
       ">>> np.array([1, 2, 3], dtype=complex)\n",
       "array([ 1.+0.j,  2.+0.j,  3.+0.j])\n",
       "\n",
       "Data-type consisting of more than one element:\n",
       "\n",
       ">>> x = np.array([(1,2),(3,4)],dtype=[('a','<i4'),('b','<i4')])\n",
       ">>> x['a']\n",
       "array([1, 3])\n",
       "\n",
       "Creating an array from sub-classes:\n",
       "\n",
       ">>> np.array(np.asmatrix('1 2; 3 4'))\n",
       "array([[1, 2],\n",
       "       [3, 4]])\n",
       "\n",
       ">>> np.array(np.asmatrix('1 2; 3 4'), subok=True)\n",
       "matrix([[1, 2],\n",
       "        [3, 4]])\n",
       "\u001b[0;31mType:\u001b[0m      builtin_function_or_method"
      ]
     },
     "metadata": {},
     "output_type": "display_data"
    }
   ],
   "source": [
    "import numpy as np\n",
    "np.array?"
   ]
  },
  {
   "cell_type": "markdown",
   "id": "6a939c57-b35c-49fa-8ed2-0e9f41dbdde8",
   "metadata": {},
   "source": [
    "From the Examples in the above help docstring, we can now create a Numpy ndarray."
   ]
  },
  {
   "cell_type": "code",
   "execution_count": 2,
   "id": "dac43acb-1fe3-496e-a7e6-64dca6ae4246",
   "metadata": {},
   "outputs": [
    {
     "data": {
      "text/plain": [
       "array([0, 1, 2, 3, 4, 5])"
      ]
     },
     "execution_count": 2,
     "metadata": {},
     "output_type": "execute_result"
    }
   ],
   "source": [
    "a = np.array([0,1,2,3,4,5])\n",
    "a"
   ]
  },
  {
   "cell_type": "markdown",
   "id": "19e0a9df-90ed-4791-ad31-abbaddfca830",
   "metadata": {},
   "source": [
    "Here let us explore what are all the different attributes and methods that are available with the object 'a' with dir() function.\n",
    "\n",
    "Before going ahead with that, let us explore what dir() help to understand how it works."
   ]
  },
  {
   "cell_type": "code",
   "execution_count": 3,
   "id": "e65f7e84-8ca4-45b1-adf0-6af7595db2e8",
   "metadata": {},
   "outputs": [
    {
     "data": {
      "text/plain": [
       "\u001b[0;31mDocstring:\u001b[0m\n",
       "dir([object]) -> list of strings\n",
       "\n",
       "If called without an argument, return the names in the current scope.\n",
       "Else, return an alphabetized list of names comprising (some of) the attributes\n",
       "of the given object, and of attributes reachable from it.\n",
       "If the object supplies a method named __dir__, it will be used; otherwise\n",
       "the default dir() logic is used and returns:\n",
       "  for a module object: the module's attributes.\n",
       "  for a class object:  its attributes, and recursively the attributes\n",
       "    of its bases.\n",
       "  for any other object: its attributes, its class's attributes, and\n",
       "    recursively the attributes of its class's base classes.\n",
       "\u001b[0;31mType:\u001b[0m      builtin_function_or_method"
      ]
     },
     "metadata": {},
     "output_type": "display_data"
    }
   ],
   "source": [
    "dir?"
   ]
  },
  {
   "cell_type": "code",
   "execution_count": 4,
   "id": "3540b383-af36-4faf-ae9f-e289e0c27ed1",
   "metadata": {
    "scrolled": true
   },
   "outputs": [
    {
     "data": {
      "text/plain": [
       "['T',\n",
       " '__abs__',\n",
       " '__add__',\n",
       " '__and__',\n",
       " '__array__',\n",
       " '__array_finalize__',\n",
       " '__array_function__',\n",
       " '__array_interface__',\n",
       " '__array_namespace__',\n",
       " '__array_priority__',\n",
       " '__array_struct__',\n",
       " '__array_ufunc__',\n",
       " '__array_wrap__',\n",
       " '__bool__',\n",
       " '__class__',\n",
       " '__class_getitem__',\n",
       " '__complex__',\n",
       " '__contains__',\n",
       " '__copy__',\n",
       " '__deepcopy__',\n",
       " '__delattr__',\n",
       " '__delitem__',\n",
       " '__dir__',\n",
       " '__divmod__',\n",
       " '__dlpack__',\n",
       " '__dlpack_device__',\n",
       " '__doc__',\n",
       " '__eq__',\n",
       " '__float__',\n",
       " '__floordiv__',\n",
       " '__format__',\n",
       " '__ge__',\n",
       " '__getattribute__',\n",
       " '__getitem__',\n",
       " '__getstate__',\n",
       " '__gt__',\n",
       " '__hash__',\n",
       " '__iadd__',\n",
       " '__iand__',\n",
       " '__ifloordiv__',\n",
       " '__ilshift__',\n",
       " '__imatmul__',\n",
       " '__imod__',\n",
       " '__imul__',\n",
       " '__index__',\n",
       " '__init__',\n",
       " '__init_subclass__',\n",
       " '__int__',\n",
       " '__invert__',\n",
       " '__ior__',\n",
       " '__ipow__',\n",
       " '__irshift__',\n",
       " '__isub__',\n",
       " '__iter__',\n",
       " '__itruediv__',\n",
       " '__ixor__',\n",
       " '__le__',\n",
       " '__len__',\n",
       " '__lshift__',\n",
       " '__lt__',\n",
       " '__matmul__',\n",
       " '__mod__',\n",
       " '__mul__',\n",
       " '__ne__',\n",
       " '__neg__',\n",
       " '__new__',\n",
       " '__or__',\n",
       " '__pos__',\n",
       " '__pow__',\n",
       " '__radd__',\n",
       " '__rand__',\n",
       " '__rdivmod__',\n",
       " '__reduce__',\n",
       " '__reduce_ex__',\n",
       " '__repr__',\n",
       " '__rfloordiv__',\n",
       " '__rlshift__',\n",
       " '__rmatmul__',\n",
       " '__rmod__',\n",
       " '__rmul__',\n",
       " '__ror__',\n",
       " '__rpow__',\n",
       " '__rrshift__',\n",
       " '__rshift__',\n",
       " '__rsub__',\n",
       " '__rtruediv__',\n",
       " '__rxor__',\n",
       " '__setattr__',\n",
       " '__setitem__',\n",
       " '__setstate__',\n",
       " '__sizeof__',\n",
       " '__str__',\n",
       " '__sub__',\n",
       " '__subclasshook__',\n",
       " '__truediv__',\n",
       " '__xor__',\n",
       " 'all',\n",
       " 'any',\n",
       " 'argmax',\n",
       " 'argmin',\n",
       " 'argpartition',\n",
       " 'argsort',\n",
       " 'astype',\n",
       " 'base',\n",
       " 'byteswap',\n",
       " 'choose',\n",
       " 'clip',\n",
       " 'compress',\n",
       " 'conj',\n",
       " 'conjugate',\n",
       " 'copy',\n",
       " 'ctypes',\n",
       " 'cumprod',\n",
       " 'cumsum',\n",
       " 'data',\n",
       " 'device',\n",
       " 'diagonal',\n",
       " 'dot',\n",
       " 'dtype',\n",
       " 'dump',\n",
       " 'dumps',\n",
       " 'fill',\n",
       " 'flags',\n",
       " 'flat',\n",
       " 'flatten',\n",
       " 'getfield',\n",
       " 'imag',\n",
       " 'item',\n",
       " 'itemset',\n",
       " 'itemsize',\n",
       " 'mT',\n",
       " 'max',\n",
       " 'mean',\n",
       " 'min',\n",
       " 'nbytes',\n",
       " 'ndim',\n",
       " 'newbyteorder',\n",
       " 'nonzero',\n",
       " 'partition',\n",
       " 'prod',\n",
       " 'ptp',\n",
       " 'put',\n",
       " 'ravel',\n",
       " 'real',\n",
       " 'repeat',\n",
       " 'reshape',\n",
       " 'resize',\n",
       " 'round',\n",
       " 'searchsorted',\n",
       " 'setfield',\n",
       " 'setflags',\n",
       " 'shape',\n",
       " 'size',\n",
       " 'sort',\n",
       " 'squeeze',\n",
       " 'std',\n",
       " 'strides',\n",
       " 'sum',\n",
       " 'swapaxes',\n",
       " 'take',\n",
       " 'to_device',\n",
       " 'tobytes',\n",
       " 'tofile',\n",
       " 'tolist',\n",
       " 'tostring',\n",
       " 'trace',\n",
       " 'transpose',\n",
       " 'var',\n",
       " 'view']"
      ]
     },
     "execution_count": 4,
     "metadata": {},
     "output_type": "execute_result"
    }
   ],
   "source": [
    "dir(a)"
   ]
  },
  {
   "cell_type": "markdown",
   "id": "07b91bc9-62f5-409e-befe-814ae781b89b",
   "metadata": {},
   "source": [
    "It is hard to explore them in a long list format, let us first seperate them into two classes namely 'private' and 'public' and then print them in sequence.\n",
    "\n",
    "This can be acheived with numpy arrays."
   ]
  },
  {
   "cell_type": "code",
   "execution_count": 5,
   "id": "17e3fe21-adf7-46d6-b028-8127bc26531e",
   "metadata": {},
   "outputs": [
    {
     "name": "stdout",
     "output_type": "stream",
     "text": [
      "Public Attributes:\n",
      "['T' 'all' 'any' 'argmax' 'argmin' 'argpartition' 'argsort' 'astype'\n",
      " 'base' 'byteswap' 'choose' 'clip' 'compress' 'conj' 'conjugate' 'copy'\n",
      " 'ctypes' 'cumprod' 'cumsum' 'data' 'device' 'diagonal' 'dot' 'dtype'\n",
      " 'dump' 'dumps' 'fill' 'flags' 'flat' 'flatten' 'getfield' 'imag' 'item'\n",
      " 'itemset' 'itemsize' 'mT' 'max' 'mean' 'min' 'nbytes' 'ndim'\n",
      " 'newbyteorder' 'nonzero' 'partition' 'prod' 'ptp' 'put' 'ravel' 'real'\n",
      " 'repeat' 'reshape' 'resize' 'round' 'searchsorted' 'setfield' 'setflags'\n",
      " 'shape' 'size' 'sort' 'squeeze' 'std' 'strides' 'sum' 'swapaxes' 'take'\n",
      " 'to_device' 'tobytes' 'tofile' 'tolist' 'tostring' 'trace' 'transpose'\n",
      " 'var' 'view']\n",
      "Private Attributes:\n",
      "['__abs__' '__add__' '__and__' '__array__' '__array_finalize__'\n",
      " '__array_function__' '__array_interface__' '__array_namespace__'\n",
      " '__array_priority__' '__array_struct__' '__array_ufunc__'\n",
      " '__array_wrap__' '__bool__' '__class__' '__class_getitem__' '__complex__'\n",
      " '__contains__' '__copy__' '__deepcopy__' '__delattr__' '__delitem__'\n",
      " '__dir__' '__divmod__' '__dlpack__' '__dlpack_device__' '__doc__'\n",
      " '__eq__' '__float__' '__floordiv__' '__format__' '__ge__'\n",
      " '__getattribute__' '__getitem__' '__getstate__' '__gt__' '__hash__'\n",
      " '__iadd__' '__iand__' '__ifloordiv__' '__ilshift__' '__imatmul__'\n",
      " '__imod__' '__imul__' '__index__' '__init__' '__init_subclass__'\n",
      " '__int__' '__invert__' '__ior__' '__ipow__' '__irshift__' '__isub__'\n",
      " '__iter__' '__itruediv__' '__ixor__' '__le__' '__len__' '__lshift__'\n",
      " '__lt__' '__matmul__' '__mod__' '__mul__' '__ne__' '__neg__' '__new__'\n",
      " '__or__' '__pos__' '__pow__' '__radd__' '__rand__' '__rdivmod__'\n",
      " '__reduce__' '__reduce_ex__' '__repr__' '__rfloordiv__' '__rlshift__'\n",
      " '__rmatmul__' '__rmod__' '__rmul__' '__ror__' '__rpow__' '__rrshift__'\n",
      " '__rshift__' '__rsub__' '__rtruediv__' '__rxor__' '__setattr__'\n",
      " '__setitem__' '__setstate__' '__sizeof__' '__str__' '__sub__'\n",
      " '__subclasshook__' '__truediv__' '__xor__']\n"
     ]
    }
   ],
   "source": [
    "attrs = np.array(dir(a))\n",
    "public_attrs = []\n",
    "private_attrs = []\n",
    "for attr in attrs:\n",
    "    if attr[0] != '_':        \n",
    "        public_attrs.append(attr)\n",
    "    else:\n",
    "        private_attrs.append(attr)\n",
    "print(\"Public Attributes:\")\n",
    "print(np.array(public_attrs, dtype='<U20'))\n",
    "print(\"Private Attributes:\")\n",
    "print(np.array(private_attrs, dtype='<U20'))"
   ]
  },
  {
   "cell_type": "markdown",
   "id": "122fd2e0-aada-44fc-87e4-3ec005dae2b5",
   "metadata": {},
   "source": [
    "Now lets see some of the public attributes, and what they are and understand how we can use them?"
   ]
  },
  {
   "cell_type": "code",
   "execution_count": 6,
   "id": "8ec7f8ea-cdc0-4a12-bc50-e3630f40b53f",
   "metadata": {},
   "outputs": [
    {
     "data": {
      "text/plain": [
       "\u001b[0;31mType:\u001b[0m        Int64DType\n",
       "\u001b[0;31mString form:\u001b[0m int64\n",
       "\u001b[0;31mLength:\u001b[0m      0\n",
       "\u001b[0;31mFile:\u001b[0m        ~/Documents/Python/LearnJupyter/myenv/lib/python3.11/site-packages/numpy/dtypes.py\n",
       "\u001b[0;31mDocstring:\u001b[0m  \n",
       "DType class corresponding to the scalar type and dtype of the same name.\n",
       "\n",
       "Please see `numpy.dtype` for the typical way to create\n",
       "dtype instances and :ref:`arrays.dtypes` for additional\n",
       "information."
      ]
     },
     "metadata": {},
     "output_type": "display_data"
    }
   ],
   "source": [
    "a.dtype?"
   ]
  },
  {
   "cell_type": "code",
   "execution_count": 7,
   "id": "23a82144-36c8-4e9b-aaa5-6d4879b0750e",
   "metadata": {},
   "outputs": [
    {
     "data": {
      "text/plain": [
       "\u001b[0;31mType:\u001b[0m        int\n",
       "\u001b[0;31mString form:\u001b[0m 1\n",
       "\u001b[0;31mDocstring:\u001b[0m  \n",
       "int([x]) -> integer\n",
       "int(x, base=10) -> integer\n",
       "\n",
       "Convert a number or string to an integer, or return 0 if no arguments\n",
       "are given.  If x is a number, return x.__int__().  For floating point\n",
       "numbers, this truncates towards zero.\n",
       "\n",
       "If x is not a number or if base is given, then x must be a string,\n",
       "bytes, or bytearray instance representing an integer literal in the\n",
       "given base.  The literal can be preceded by '+' or '-' and be surrounded\n",
       "by whitespace.  The base defaults to 10.  Valid bases are 0 and 2-36.\n",
       "Base 0 means to interpret the base from the string as an integer literal.\n",
       ">>> int('0b100', base=0)\n",
       "4"
      ]
     },
     "metadata": {},
     "output_type": "display_data"
    }
   ],
   "source": [
    "a.ndim?"
   ]
  },
  {
   "cell_type": "markdown",
   "id": "d0fcecc9-3de3-4ee4-9b37-a242e7d976ec",
   "metadata": {},
   "source": [
    "However for a detailed documentation of the attributes or methods, its always recommended to refer to the official library documentation. \n",
    "\n",
    "Numpy ndarray Documentation,\n",
    "URL: https://numpy.org/doc/stable/reference/generated/numpy.ndarray.html"
   ]
  }
 ],
 "metadata": {
  "kernelspec": {
   "display_name": "Python 3 (ipykernel)",
   "language": "python",
   "name": "python3"
  },
  "language_info": {
   "codemirror_mode": {
    "name": "ipython",
    "version": 3
   },
   "file_extension": ".py",
   "mimetype": "text/x-python",
   "name": "python",
   "nbconvert_exporter": "python",
   "pygments_lexer": "ipython3",
   "version": "3.11.2"
  }
 },
 "nbformat": 4,
 "nbformat_minor": 5
}
